{
 "cells": [
  {
   "cell_type": "code",
   "execution_count": 16,
   "metadata": {},
   "outputs": [],
   "source": [
    "from pathlib import Path\n",
    "import yaml"
   ]
  },
  {
   "cell_type": "code",
   "execution_count": 17,
   "metadata": {},
   "outputs": [],
   "source": [
    "class Config():\n",
    "\n",
    "    \"Creates a default config file at `~/.fastai/config.yml`\"\n",
    "    DEFAULT_CONFIG_PATH = '~/.fastai/config.yml'\n",
    "    DEFAULT_CONFIG = {\n",
    "        'data_path': '~/.fastai/data'\n",
    "    }\n",
    "\n",
    "    @classmethod\n",
    "    def get_key(cls, key): return cls.get().get(key)\n",
    "    @classmethod\n",
    "    def get(cls, fpath=None, create_missing=True):\n",
    "        fpath = _expand_path(fpath or cls.DEFAULT_CONFIG_PATH)\n",
    "        if not fpath.exists() and create_missing: cls.create(fpath)\n",
    "        assert fpath.exists(), f'Could not find config at: {fpath}. Please create'\n",
    "        with open(fpath, 'r') as yaml_file:\n",
    "            return yaml.load(yaml_file)\n",
    "    @classmethod\n",
    "    def create(cls, fpath):\n",
    "        fpath = _expand_path(fpath)\n",
    "        assert(fpath.suffix == '.yml')\n",
    "        if fpath.exists(): return\n",
    "        fpath.parent.mkdir(parents=True, exist_ok=True)\n",
    "        with open(fpath, 'w') as yaml_file:\n",
    "            yaml.dump(cls.DEFAULT_CONFIG, yaml_file, default_flow_style=False)\n",
    "\n",
    "def _expand_path(fpath): return Path(fpath).expanduser()"
   ]
  },
  {
   "cell_type": "code",
   "execution_count": 22,
   "metadata": {},
   "outputs": [],
   "source": [
    "Config.get().get('data')"
   ]
  },
  {
   "cell_type": "code",
   "execution_count": null,
   "metadata": {},
   "outputs": [],
   "source": []
  }
 ],
 "metadata": {
  "kernelspec": {
   "display_name": "Python 3",
   "language": "python",
   "name": "python3"
  },
  "language_info": {
   "codemirror_mode": {
    "name": "ipython",
    "version": 3
   },
   "file_extension": ".py",
   "mimetype": "text/x-python",
   "name": "python",
   "nbconvert_exporter": "python",
   "pygments_lexer": "ipython3",
   "version": "3.6.6"
  },
  "varInspector": {
   "cols": {
    "lenName": 16,
    "lenType": 16,
    "lenVar": 40
   },
   "kernels_config": {
    "python": {
     "delete_cmd_postfix": "",
     "delete_cmd_prefix": "del ",
     "library": "var_list.py",
     "varRefreshCmd": "print(var_dic_list())"
    },
    "r": {
     "delete_cmd_postfix": ") ",
     "delete_cmd_prefix": "rm(",
     "library": "var_list.r",
     "varRefreshCmd": "cat(var_dic_list()) "
    }
   },
   "types_to_exclude": [
    "module",
    "function",
    "builtin_function_or_method",
    "instance",
    "_Feature"
   ],
   "window_display": false
  }
 },
 "nbformat": 4,
 "nbformat_minor": 2
}
