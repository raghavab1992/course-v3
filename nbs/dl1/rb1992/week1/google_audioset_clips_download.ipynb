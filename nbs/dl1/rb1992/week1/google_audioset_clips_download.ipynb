{
 "cells": [
  {
   "cell_type": "markdown",
   "metadata": {
    "heading_collapsed": true
   },
   "source": [
    "## Getting audio clips of required classes from google audioset data #### \n",
    "https://research.google.com/audioset/dataset/index.html\n",
    "* Since the dataset is too huge, shortlisted a few classes to work on\n",
    "    * Bark(Dog) vs Meow(Cat) (5GB of data, ~4.5k 10s audio clips)\n",
    "    * (Motorboat, speedboat) vs Motorcycle vs (Race car, auto racing) vs Helicopter vs (Railroad car, train wagon)(Close to 45GB of 10s audio data, ~33k clips even for these 5 classes) - This exp takes a lot of time given the data size\n",
    "    * Change the classids as appropriate\n",
    "* To get maximum data for the above classes, have used all the data available from the audioset data\n",
    "    * Refer https://research.google.com/audioset//download.html#split for more details\n",
    "    * ID to Class mapping is available in this link - https://github.com/audioset/ontology/blob/master/ontology.json"
   ]
  },
  {
   "cell_type": "code",
   "execution_count": 6,
   "metadata": {
    "hidden": true
   },
   "outputs": [],
   "source": [
    "import os\n",
    "import subprocess\n",
    "import youtube_dl\n",
    "import pandas as pd\n",
    "import glob"
   ]
  },
  {
   "cell_type": "markdown",
   "metadata": {
    "heading_collapsed": true
   },
   "source": [
    "## Merging the csv annotation files - Eval, Balanced and Unbalanced to get maximum data"
   ]
  },
  {
   "cell_type": "code",
   "execution_count": 3,
   "metadata": {
    "hidden": true
   },
   "outputs": [],
   "source": [
    "# os.chdir('./data/google_audioset')"
   ]
  },
  {
   "cell_type": "code",
   "execution_count": 7,
   "metadata": {
    "hidden": true
   },
   "outputs": [
    {
     "name": "stdout",
     "output_type": "stream",
     "text": [
      "0 ./eval_segments.csv\n",
      "1 ./unbalanced_train_segments.csv\n",
      "2 ./balanced_train_segments.csv\n"
     ]
    }
   ],
   "source": [
    "df = pd.DataFrame()\n",
    "for cnt, i in enumerate(glob.glob('./*_segments.csv')):\n",
    "    print(cnt, i)\n",
    "    if cnt==0:\n",
    "        x = pd.read_csv(i,# nrows=1000,\n",
    "                        sep=',', skiprows=2,quotechar='\"', engine='python', skipinitialspace=True)\n",
    "        df = x\n",
    "    else:\n",
    "        x = pd.read_csv(i, #nrows=1000,\n",
    "                        sep=',', skiprows=2,quotechar='\"', engine='python', skipinitialspace=True)\n",
    "        df = df.append(x, ignore_index=True)"
   ]
  },
  {
   "cell_type": "code",
   "execution_count": 8,
   "metadata": {
    "hidden": true
   },
   "outputs": [
    {
     "data": {
      "text/html": [
       "<div>\n",
       "<style scoped>\n",
       "    .dataframe tbody tr th:only-of-type {\n",
       "        vertical-align: middle;\n",
       "    }\n",
       "\n",
       "    .dataframe tbody tr th {\n",
       "        vertical-align: top;\n",
       "    }\n",
       "\n",
       "    .dataframe thead th {\n",
       "        text-align: right;\n",
       "    }\n",
       "</style>\n",
       "<table border=\"1\" class=\"dataframe\">\n",
       "  <thead>\n",
       "    <tr style=\"text-align: right;\">\n",
       "      <th></th>\n",
       "      <th># YTID</th>\n",
       "      <th>start_seconds</th>\n",
       "      <th>end_seconds</th>\n",
       "      <th>positive_labels</th>\n",
       "    </tr>\n",
       "  </thead>\n",
       "  <tbody>\n",
       "    <tr>\n",
       "      <th>0</th>\n",
       "      <td>--4gqARaEJE</td>\n",
       "      <td>0.0</td>\n",
       "      <td>10.0</td>\n",
       "      <td>/m/068hy,/m/07q6cd_,/m/0bt9lr,/m/0jbk</td>\n",
       "    </tr>\n",
       "    <tr>\n",
       "      <th>1</th>\n",
       "      <td>--BfvyPmVMo</td>\n",
       "      <td>20.0</td>\n",
       "      <td>30.0</td>\n",
       "      <td>/m/03l9g</td>\n",
       "    </tr>\n",
       "    <tr>\n",
       "      <th>2</th>\n",
       "      <td>--U7joUcTCo</td>\n",
       "      <td>0.0</td>\n",
       "      <td>10.0</td>\n",
       "      <td>/m/01b_21</td>\n",
       "    </tr>\n",
       "    <tr>\n",
       "      <th>3</th>\n",
       "      <td>--i-y1v8Hy8</td>\n",
       "      <td>0.0</td>\n",
       "      <td>9.0</td>\n",
       "      <td>/m/04rlf,/m/09x0r,/t/dd00004,/t/dd00005</td>\n",
       "    </tr>\n",
       "    <tr>\n",
       "      <th>4</th>\n",
       "      <td>-0BIyqJj9ZU</td>\n",
       "      <td>30.0</td>\n",
       "      <td>40.0</td>\n",
       "      <td>/m/07rgt08,/m/07sq110,/t/dd00001</td>\n",
       "    </tr>\n",
       "  </tbody>\n",
       "</table>\n",
       "</div>"
      ],
      "text/plain": [
       "        # YTID  start_seconds  end_seconds  \\\n",
       "0  --4gqARaEJE            0.0         10.0   \n",
       "1  --BfvyPmVMo           20.0         30.0   \n",
       "2  --U7joUcTCo            0.0         10.0   \n",
       "3  --i-y1v8Hy8            0.0          9.0   \n",
       "4  -0BIyqJj9ZU           30.0         40.0   \n",
       "\n",
       "                           positive_labels  \n",
       "0    /m/068hy,/m/07q6cd_,/m/0bt9lr,/m/0jbk  \n",
       "1                                 /m/03l9g  \n",
       "2                                /m/01b_21  \n",
       "3  /m/04rlf,/m/09x0r,/t/dd00004,/t/dd00005  \n",
       "4         /m/07rgt08,/m/07sq110,/t/dd00001  "
      ]
     },
     "execution_count": 8,
     "metadata": {},
     "output_type": "execute_result"
    }
   ],
   "source": [
    "df.head()"
   ]
  },
  {
   "cell_type": "code",
   "execution_count": 9,
   "metadata": {
    "hidden": true
   },
   "outputs": [
    {
     "name": "stdout",
     "output_type": "stream",
     "text": [
      "multi label       1183535\n",
      "classification     900785\n",
      "Name: type, dtype: int64\n"
     ]
    }
   ],
   "source": [
    "df['type'] = df.positive_labels.map(lambda x: 'classification' if len(x.split(','))==1 else 'multi label')\n",
    "print(df.type.value_counts())"
   ]
  },
  {
   "cell_type": "markdown",
   "metadata": {
    "heading_collapsed": true
   },
   "source": [
    "## Filtering clips with required classes"
   ]
  },
  {
   "cell_type": "code",
   "execution_count": 22,
   "metadata": {
    "hidden": true
   },
   "outputs": [
    {
     "name": "stdout",
     "output_type": "stream",
     "text": [
      "Boat multi label       7588\n",
      "classification     490\n",
      "Name: type, dtype: int64\n",
      "multi label       7019\n",
      "classification     242\n",
      "Name: type, dtype: int64\n",
      "Racecar multi label       6310\n",
      "classification     264\n",
      "Name: type, dtype: int64\n",
      "Helicopter multi label       2964\n",
      "classification     734\n",
      "Name: type, dtype: int64\n",
      "Railroadcar multi label       8342\n",
      "classification      19\n",
      "Name: type, dtype: int64\n"
     ]
    }
   ],
   "source": [
    "# Use the corressponding ids based for the classes as available in json file mentioned at the start \n",
    "# c2code_map = {'Bark':'/m/05tny_', 'Meow':'/m/07qrkrw'}\n",
    "c2code_map = {'Boat':'/m/02rlv9', 'Motorcycle':'/m/04_sv', 'Racecar':'/m/0ltv', 'Helicopter':'/m/09ct_', 'Railroadcar':'/m/01g50p'}\n",
    "\n",
    "# # bark\n",
    "# df['Bark']= df.positive_labels.map(lambda x: 1 if (c2code_map['Bark'] in x.split(',')) else 0)\n",
    "# print(df[df.Bark==1].type.value_counts())\n",
    "# # Meow\n",
    "# df['Meow']= df.positive_labels.map(lambda x: 1 if (c2code_map['Meow'] in x.split(',')) else 0)\n",
    "# print(df[df.Meow==1].type.value_counts())\n",
    "\n",
    "# Boat\n",
    "df['Boat']= df.positive_labels.map(lambda x: 1 if (c2code_map['Boat'] in x.split(',')) else 0)\n",
    "print('Boat',df[df.Boat==1].type.value_counts())\n",
    "# Motorcycle\n",
    "df['Motorcycle']= df.positive_labels.map(lambda x: 1 if (c2code_map['Motorcycle'] in x.split(',')) else 0)\n",
    "print(df[df.Motorcycle==1].type.value_counts())\n",
    "# Racecar\n",
    "df['Racecar']= df.positive_labels.map(lambda x: 1 if (c2code_map['Racecar'] in x.split(',')) else 0)\n",
    "print('Racecar',df[df.Racecar==1].type.value_counts())\n",
    "# Helicopter\n",
    "df['Helicopter']= df.positive_labels.map(lambda x: 1 if (c2code_map['Helicopter'] in x.split(',')) else 0)\n",
    "print('Helicopter',df[df.Helicopter==1].type.value_counts())\n",
    "# Railroadcar\n",
    "df['Railroadcar']= df.positive_labels.map(lambda x: 1 if (c2code_map['Railroadcar'] in x.split(',')) else 0)\n",
    "print('Railroadcar',df[df.Railroadcar==1].type.value_counts())"
   ]
  },
  {
   "cell_type": "markdown",
   "metadata": {
    "hidden": true
   },
   "source": [
    "* Most of the audio clips have more than one label and this makes processing for normal classifation difficult\n",
    "* Filter those clips which are having only one of the shortlisted callses(e.g.either having dog bark or cat meow but not both)"
   ]
  },
  {
   "cell_type": "code",
   "execution_count": 31,
   "metadata": {
    "hidden": true,
    "scrolled": true
   },
   "outputs": [
    {
     "name": "stdout",
     "output_type": "stream",
     "text": [
      "145\n"
     ]
    }
   ],
   "source": [
    "# Clips where we have both\n",
    "# df[(df.Bark==1) & (df.Meow==1)]\n",
    "print(((df.Boat + df.Motorcycle + df.Racecar + df.Helicopter + df.Railroadcar)>1).sum())\n",
    "\n",
    "# Clips where only one of the shortlisted classes is present in the audio\n",
    "# BMdf = df[(df.Bark+df.Meow)==1]\n",
    "BMdf = df[(df.Boat + df.Motorcycle + df.Racecar + df.Helicopter + df.Railroadcar)==1]\n",
    "\n",
    "clipsmeta = list(zip(BMdf['# YTID'].values, BMdf.start_seconds.values))"
   ]
  },
  {
   "cell_type": "markdown",
   "metadata": {
    "heading_collapsed": true
   },
   "source": [
    "## Download the 10 sec audio snippets for the filtered classes from youtube videos\n",
    "* Using ffmpeg to get the audio and extract the requried 10s clip\n",
    "* This part takes up lot of time as it involved downloading the entire video. Coudnt figure out a way to extract only the audio for a predefined time period. Any suggestions here would be very helpful"
   ]
  },
  {
   "cell_type": "code",
   "execution_count": 35,
   "metadata": {
    "hidden": true
   },
   "outputs": [],
   "source": [
    "os.chdir('./google_audioset_Vehicles')"
   ]
  },
  {
   "cell_type": "code",
   "execution_count": 39,
   "metadata": {
    "hidden": true,
    "scrolled": true
   },
   "outputs": [],
   "source": [
    "def download_audioset(metadata):\n",
    "    i, start = metadata\n",
    "    dur = 10\n",
    "    print(i, start, dur)\n",
    "    ydl_opts = {'format': 'bestaudio/best',\n",
    "                'outtmpl': './{}'.format(i+'.mp4'),\n",
    "                'postprocessors': [{'key': 'FFmpegExtractAudio','preferredcodec': 'wav','preferredquality': '192'}]}\n",
    "    try:\n",
    "        with youtube_dl.YoutubeDL(ydl_opts) as ydl:\n",
    "            ydl.download(['http://www.youtube.com/watch?v={}'.format(i)])\n",
    "            command = \"ffmpeg -ss {} -t {} -i ./{}.wav ./{}.wav\".format(start, dur, i,i+'_seg')\n",
    "            print(command)\n",
    "            subprocess.call(command, shell=True)\n",
    "            os.remove('./{}.wav'.format(i))\n",
    "            os.rename('./{}_seg.wav'.format(i),'./{}.wav'.format(i))\n",
    "    except:\n",
    "        print('Video not available{}'.format(i))"
   ]
  },
  {
   "cell_type": "code",
   "execution_count": 40,
   "metadata": {
    "hidden": true
   },
   "outputs": [
    {
     "data": {
      "text/plain": [
       "8"
      ]
     },
     "execution_count": 40,
     "metadata": {},
     "output_type": "execute_result"
    }
   ],
   "source": [
    "import multiprocessing as mp\n",
    "mp.cpu_count()\n",
    "\n",
    "with mp.Pool(8) as pool:\n",
    "    pool.map(download_audioset, clipsmeta)"
   ]
  },
  {
   "cell_type": "code",
   "execution_count": 43,
   "metadata": {
    "hidden": true
   },
   "outputs": [
    {
     "name": "stdout",
     "output_type": "stream",
     "text": [
      "32659 33681\n"
     ]
    }
   ],
   "source": [
    "# some clips will be missing due to unavailability of video\n",
    "print(len(os.listdir('./')), len(clipsmeta))"
   ]
  },
  {
   "cell_type": "code",
   "execution_count": 44,
   "metadata": {
    "hidden": true
   },
   "outputs": [],
   "source": [
    "fnames = [i[:-4] for i in os.listdir('./')]"
   ]
  },
  {
   "cell_type": "code",
   "execution_count": 48,
   "metadata": {
    "hidden": true
   },
   "outputs": [
    {
     "data": {
      "text/plain": [
       "Index(['# YTID', 'start_seconds', 'end_seconds', 'positive_labels', 'type',\n",
       "       'Boat', 'Motorcycle', 'Racecar', 'Helicopter', 'Railroadcar'],\n",
       "      dtype='object')"
      ]
     },
     "execution_count": 48,
     "metadata": {},
     "output_type": "execute_result"
    }
   ],
   "source": [
    "BMdf.columns"
   ]
  },
  {
   "cell_type": "code",
   "execution_count": 49,
   "metadata": {
    "hidden": true
   },
   "outputs": [],
   "source": [
    "BMdf.columns = ['YTID', 'start_seconds', 'end_seconds', 'positive_labels', 'type','Boat', 'Motorcycle', 'Racecar', 'Helicopter', 'Railroadcar']"
   ]
  },
  {
   "cell_type": "code",
   "execution_count": 55,
   "metadata": {
    "hidden": true,
    "scrolled": true
   },
   "outputs": [],
   "source": [
    "# Saving the metadata to generate labels.csv file later\n",
    "BMdf[BMdf['YTID'].isin(fnames)].to_csv('./Vehicle_clips_metadata', sep=' ', index=False)"
   ]
  },
  {
   "cell_type": "code",
   "execution_count": null,
   "metadata": {
    "hidden": true
   },
   "outputs": [],
   "source": []
  }
 ],
 "metadata": {
  "kernelspec": {
   "display_name": "Python 3",
   "language": "python",
   "name": "python3"
  },
  "language_info": {
   "codemirror_mode": {
    "name": "ipython",
    "version": 3
   },
   "file_extension": ".py",
   "mimetype": "text/x-python",
   "name": "python",
   "nbconvert_exporter": "python",
   "pygments_lexer": "ipython3",
   "version": "3.6.6"
  },
  "varInspector": {
   "cols": {
    "lenName": 16,
    "lenType": 16,
    "lenVar": 40
   },
   "kernels_config": {
    "python": {
     "delete_cmd_postfix": "",
     "delete_cmd_prefix": "del ",
     "library": "var_list.py",
     "varRefreshCmd": "print(var_dic_list())"
    },
    "r": {
     "delete_cmd_postfix": ") ",
     "delete_cmd_prefix": "rm(",
     "library": "var_list.r",
     "varRefreshCmd": "cat(var_dic_list()) "
    }
   },
   "types_to_exclude": [
    "module",
    "function",
    "builtin_function_or_method",
    "instance",
    "_Feature"
   ],
   "window_display": false
  }
 },
 "nbformat": 4,
 "nbformat_minor": 2
}
